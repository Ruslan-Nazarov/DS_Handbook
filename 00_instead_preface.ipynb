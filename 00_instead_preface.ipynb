{
 "cells": [
  {
   "cell_type": "code",
   "execution_count": null,
   "metadata": {},
   "outputs": [],
   "source": [
    "# 2023\n",
    "\n",
    "# for communication\n",
    "\n",
    "# twitter https://twitter.com/runaz_there"
   ]
  },
  {
   "attachments": {},
   "cell_type": "markdown",
   "metadata": {},
   "source": [
    "***Instead of a preface***\n",
    "\n",
    "Below are several practical advice and principles of self-education.\n",
    "\n",
    "1. Before you will become to learn new science, for example, Data Science, you have to understand why you do this. Career, money? But this is too little for humans. Money and career can be by-products of education, but they cannot be the main target. You have to put yourself on a great target! If you become to learn math, your aim is to solve Millennium Prize Problems. If you become to learn Data Science, your aim is to invent AI. Nothing less than this. Even if you cannot reach the target, you have to go a long way toward a great target. This the only way you can convince yourself of the big efforts, which you want to take, is worth it. The only way you can make education interesting for yourself.\n",
    "2. Your plan of education must have two directions: difficult and elementary. For example, difficult — math, and elementary — a non-fiction book about AI. Why? That the brain does not get bored! And that brain has been understanding you are busy with difficult tack and therefore the brain has to work as efficiently as possible. Besides, until the brain doesn’t feel danger it will not become to work at the maximum level. The theory of probability can be a such danger. Divide education into difficult and elementary tasks it is important also, therefore, this allows efficient expense time. If you are very busy with another thing, you are ill or you are exhausted, you can take easy things from the plan. When you will be free, you can make maximally difficult things. You are learning all the time, it’s very important. Remember, it is forbidden to waste time inefficiently.\n",
    "3. Do not try to understand all and remember with first attempts. No need to force yourself. While you are learning new science your task is not to remember, but to understand. If you have understood differential calculus and then forgot half the theorems of differential calculus it’s not bad. Understanding is the most important!\n",
    "4. Learn science in ‘layers’. Read a book, for example, a math book. Try to understand as much as possible, but without forcing yourself. Don’t try to remember all theorems and formulas. Your task is to understand. Now take follow the book on math. Try to understand as much as possible. This time you have understood much more. Do not stop! Remember, it’s impossible full learn math, Data Science or other science. Your target is to train the ability to understand. The more ‘layers’ of understanding, the better.\n",
    "5. New ‘layer’ has to be a little harder than the previous one. For example, begin with a book for school, then take a book for college. Don’t stop on this ‘layer’. Take a special book about linear algebra.\n",
    "6. Don’t reread books which you have read. If you don’t understand any theme, it’s better to take another book on this theme (or read a post in the blog). However, you must have a ‘base book’, for example on math, Data Science, and programming. This book it’s a book which, in your mind and for you, includes a very simple and very full description of the theme. This will be your handbook. You can reread the handbook.\n",
    "7. Don’t be afraid of difficult books. Even if you have understood only 10% of the book, it’s very useful. You train your brain to feel at home in the theme of the book. you train the brain not to be afraid of these themes. You are learning terms, theorems, formulas, and algorithms.\n",
    "8. Don’t scold yourself. If something doesn’t work now, it will work after. The main thing it’s to follow the right path. It does not mean you have not to introspect. Why something isn’t understood? What do you do, read, so as to understand it better?\n",
    "9. Create theories. Always create theories and ideas. Don’t wait until you have become professional. Seek unusual solutions, and do crazy assumptions, even if you have started to read only the first book on math. The main thing to remember any idea have to be checked. Let such a check be followed a book or your personal project.\n",
    "10. Don’t agree with ideas by typing ‘math is difficult’. Do not let that scare you. There is nothing difficult for humans. What is ‘difficult’? Any knowledge is the objects and relations between them. ‘Difficult’ means a lot of objects and a lot of relations. The basic principle for cooking a sandwich and solving of math task is one: take elements and connect them. Abstractly ‘difficult’ doesn’t exist. If the main is a number of elements and relations, then you just need time. You already know the basic principle and even master it brilliantly (sandwiches are good for you!).\n",
    "11. If you don’t understand books on math or Data Science, the reason is you have no experience or you don’t know all preconditions. Why economics book doesn’t appear so complicated? Because a lot of concepts of economics are familiar to us: unemployment, profit, etc. But concepts of math, especially abstract, we rarely see in life. Take math theorem. Book, you are reading, cannot describe all reasons which led to the theorem. Therefore you cannot understand this theorem. It is not your guilt. You will understand this theorem, but later, in follow ‘layer’. And remember the formulas make life easier. Don’t pay attention to the words “it’s obvious” and so on. Perhaps this is obvious to the author, but not to you. This is no problem!\n",
    "12. Create context. What is the context? You read math books. But you have to read books about the history of math, philosophy math and etc. The more different pieces of knowledge, the better. So our brain is easier to remember and so the brain understands better. Remember, our brains take in information from context because the world is also made up of connections.\n",
    "13. Do the exercises. But only when you have no more important things. Usually, the exercises are artificial examples. Such exercises are dull and rarely used in real life. Besides, often exercises want to confuse you. Why? It’s bad. You will be explained knowledge. Experience will come with concrete examples from life. Therefore, create your own projects. Let these be examples that are based on problems that you understand. Maybe you are interested in applying the methods of mathematics and DS to the study of environmental problems. Do it!\n",
    "14. Seek good books. How? Take five books at random. In this books you find links to other books. Collect these books and read them. And add classic books on the topic to this library. It’s always a good decision!\n",
    "15. Don’t mix thinks. If you are currently studying math, don’t try to remember the code from your last project.\n",
    "16. Try to explain everything in your own words. You learn, you accumulate knowledge. Tell us about your knowledge! It could be a blog or a podcast. If you can explain in your own words, then you understand everything nicely.\n",
    "17. Don’t be afraid that you are a slow learner. The main thing is to study.\n",
    "18. Find a hobby. Let your hobby be a distraction from your studies. This is also necessary. Feel free to rest! Take a couple of weeks or a month to rest. While you are resting, your brain puts your knowledge in order and finds unexpected connections.\n"
   ]
  },
  {
   "cell_type": "markdown",
   "metadata": {},
   "source": []
  }
 ],
 "metadata": {
  "kernelspec": {
   "display_name": "Python 3",
   "language": "python",
   "name": "python3"
  },
  "language_info": {
   "name": "python",
   "version": "3.9.13 (tags/v3.9.13:6de2ca5, May 17 2022, 16:36:42) [MSC v.1929 64 bit (AMD64)]"
  },
  "orig_nbformat": 4,
  "vscode": {
   "interpreter": {
    "hash": "d48f6c4c64e528ba6ee106abdd698ba0277a8e4ec074d72f5782ba5a90579c8b"
   }
  }
 },
 "nbformat": 4,
 "nbformat_minor": 2
}
